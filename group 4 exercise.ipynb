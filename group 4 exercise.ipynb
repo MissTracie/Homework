{
 "cells": [
  {
   "cell_type": "code",
   "execution_count": null,
   "metadata": {},
   "outputs": [],
   "source": [
    "This group activity is focused on list comprehensions!\n",
    "Please do the following in a jupyter notebook (There is no need to put them in a function):\n",
    "1) Take the following list and create a new list from the square of each value. og_list=[2, 4, 6, 8, 10, 12, 14]\n",
    "2) Take the same list from the previous question and create a new list but where each value is 2/3\n",
    "3) Write a list comprehension to lowercase all the keys in the below dictionary. The data represents how many pounds of each fruit a canning company is ordering.\n",
    "Why might you use a list comprehension to do something like this?\n",
    "dict={\"Apples\": 1500, \"Cranberries\": 2000, \"Pears\": 2500, \"Cherries\": 1600, \"Plums\": 2400, \"Peaches\": 13600, \"Oranges\": 7}"
   ]
  },
  {
   "cell_type": "code",
   "execution_count": 21,
   "metadata": {},
   "outputs": [],
   "source": [
    "og_list=[2, 4, 6, 8, 10, 12, 14]\n",
    "square_list=[]\n",
    "for i in og_list:\n",
    "    square_list.append(i**2)\n",
    "square_list\n",
    "\n",
    "square_list=[i**2 for i in og_list]"
   ]
  },
  {
   "cell_type": "code",
   "execution_count": 16,
   "metadata": {},
   "outputs": [
    {
     "data": {
      "text/plain": [
       "[1.3333333333333333,\n",
       " 2.6666666666666665,\n",
       " 4.0,\n",
       " 5.333333333333333,\n",
       " 6.666666666666666,\n",
       " 8.0,\n",
       " 9.333333333333332]"
      ]
     },
     "execution_count": 16,
     "metadata": {},
     "output_type": "execute_result"
    }
   ],
   "source": [
    "og_list=[2, 4, 6, 8, 10, 12, 14]\n",
    "next_list=[]\n",
    "for i in og_list:\n",
    "    next_list.append(i**2/3)\n",
    "next_list\n",
    "\n",
    "next_list2=[i*(2/3) for i in og_list]\n",
    "next_list2"
   ]
  },
  {
   "cell_type": "code",
   "execution_count": null,
   "metadata": {},
   "outputs": [],
   "source": [
    "Write a list comprehension to lowercase all the keys in the below dictionary. The data represents how many pounds of each fruit a canning company is ordering.\n",
    "Why might you use a list comprehension to do something like this?\n",
    "dict={\"Apples\": 1500, \"Cranberries\": 2000, \"Pears\": 2500, \"Cherries\": 1600, \"Plums\": 2400, \"Peaches\": 13600, \"Oranges\": 7}"
   ]
  },
  {
   "cell_type": "code",
   "execution_count": 13,
   "metadata": {},
   "outputs": [
    {
     "data": {
      "text/plain": [
       "{'apples': 1500,\n",
       " 'cranberries': 2000,\n",
       " 'pears': 2500,\n",
       " 'cherries': 1600,\n",
       " 'plums': 2400,\n",
       " 'peaches': 13600,\n",
       " 'oranges': 7}"
      ]
     },
     "execution_count": 13,
     "metadata": {},
     "output_type": "execute_result"
    }
   ],
   "source": [
    "dict={\"Apples\": 1500, \"Cranberries\": 2000, \"Pears\": 2500, \"Cherries\": 1600, \"Plums\": 2400, \"Peaches\": 13600, \"Oranges\": 7}\n",
    "dict2={key.lower(): value for key,value in dict.items()}\n",
    "dict2"
   ]
  },
  {
   "cell_type": "code",
   "execution_count": null,
   "metadata": {},
   "outputs": [],
   "source": []
  }
 ],
 "metadata": {
  "kernelspec": {
   "display_name": "Python 3",
   "language": "python",
   "name": "python3"
  },
  "language_info": {
   "codemirror_mode": {
    "name": "ipython",
    "version": 3
   },
   "file_extension": ".py",
   "mimetype": "text/x-python",
   "name": "python",
   "nbconvert_exporter": "python",
   "pygments_lexer": "ipython3",
   "version": "3.8.5"
  }
 },
 "nbformat": 4,
 "nbformat_minor": 4
}
