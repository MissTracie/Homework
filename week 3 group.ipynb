{
 "cells": [
  {
   "cell_type": "code",
   "execution_count": null,
   "metadata": {},
   "outputs": [],
   "source": [
    "Task\n",
    "\n",
    "Create a function that accepts two values, a and b. Add code to print three lines where:\n",
    "The first line contains the sum of the two numbers.\n",
    "The second line contains the difference of the two numbers (first - second). The third line contains the product of the two numbers.\n",
    "Conditions:\n",
    "If any of the results are zero, print “zero” as the result instead of 0\n",
    "Note: be sure to include useful info printed out, not just the result\n",
    "Example 0\n",
    "a=3 b=5\n",
    "Print the following:\n",
    "A+b=8 A - b = -2 A * b = 15\n",
    "Example 1\n",
    "a=3 b=3\n",
    "Print the following:\n",
    "A+b=6\n",
    "A - b = zero A*b=9\n"
   ]
  },
  {
   "cell_type": "code",
   "execution_count": null,
   "metadata": {},
   "outputs": [],
   "source": [
    "def calc(a,b):\n",
    "        if type(a) is int and type(b) is int:\n",
    "            s = (a + b)\n",
    "            if s == 0:\n",
    "                s = \"zero\"\n",
    "            print(\"a + b = \", s)\n",
    "            \n",
    "            d = (a - b)\n",
    "            if d == 0:\n",
    "                d = \"zero\"\n",
    "            print(\"a - b = \", d)\n",
    "            \n",
    "            p = (a * b)\n",
    "            if p == 0:\n",
    "                p = \"zero\"\n",
    "            print (\"a * b = \", p)\n",
    "calc(3,5)"
   ]
  },
  {
   "cell_type": "code",
   "execution_count": null,
   "metadata": {},
   "outputs": [],
   "source": []
  }
 ],
 "metadata": {
  "kernelspec": {
   "display_name": "Python 3",
   "language": "python",
   "name": "python3"
  },
  "language_info": {
   "codemirror_mode": {
    "name": "ipython",
    "version": 3
   },
   "file_extension": ".py",
   "mimetype": "text/x-python",
   "name": "python",
   "nbconvert_exporter": "python",
   "pygments_lexer": "ipython3",
   "version": "3.8.5"
  }
 },
 "nbformat": 4,
 "nbformat_minor": 4
}
