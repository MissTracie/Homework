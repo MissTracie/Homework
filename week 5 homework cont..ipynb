{
 "cells": [
  {
   "cell_type": "code",
   "execution_count": 18,
   "metadata": {},
   "outputs": [
    {
     "name": "stdout",
     "output_type": "stream",
     "text": [
      "6ca68adf9ebc0da87653f68221314c10\n"
     ]
    }
   ],
   "source": [
    "api_key = \"6ca68adf9ebc0da87653f68221314c10\"\n",
    "print (api_key)"
   ]
  },
  {
   "cell_type": "code",
   "execution_count": null,
   "metadata": {},
   "outputs": [],
   "source": [
    "import citipy"
   ]
  },
  {
   "cell_type": "code",
   "execution_count": 62,
   "metadata": {},
   "outputs": [
    {
     "data": {
      "text/html": [
       "<div>\n",
       "<style scoped>\n",
       "    .dataframe tbody tr th:only-of-type {\n",
       "        vertical-align: middle;\n",
       "    }\n",
       "\n",
       "    .dataframe tbody tr th {\n",
       "        vertical-align: top;\n",
       "    }\n",
       "\n",
       "    .dataframe thead th {\n",
       "        text-align: right;\n",
       "    }\n",
       "</style>\n",
       "<table border=\"1\" class=\"dataframe\">\n",
       "  <thead>\n",
       "    <tr style=\"text-align: right;\">\n",
       "      <th></th>\n",
       "      <th>Name</th>\n",
       "    </tr>\n",
       "  </thead>\n",
       "  <tbody>\n",
       "    <tr>\n",
       "      <th>0</th>\n",
       "      <td>Los Angeles</td>\n",
       "    </tr>\n",
       "    <tr>\n",
       "      <th>1</th>\n",
       "      <td>Chicago</td>\n",
       "    </tr>\n",
       "    <tr>\n",
       "      <th>2</th>\n",
       "      <td>Saint Louis</td>\n",
       "    </tr>\n",
       "    <tr>\n",
       "      <th>3</th>\n",
       "      <td>O'Fallon</td>\n",
       "    </tr>\n",
       "    <tr>\n",
       "      <th>4</th>\n",
       "      <td>Atlanta</td>\n",
       "    </tr>\n",
       "    <tr>\n",
       "      <th>5</th>\n",
       "      <td>Saint Peters</td>\n",
       "    </tr>\n",
       "    <tr>\n",
       "      <th>6</th>\n",
       "      <td>Savannah</td>\n",
       "    </tr>\n",
       "  </tbody>\n",
       "</table>\n",
       "</div>"
      ],
      "text/plain": [
       "           Name\n",
       "0   Los Angeles\n",
       "1       Chicago\n",
       "2   Saint Louis\n",
       "3      O'Fallon\n",
       "4       Atlanta\n",
       "5  Saint Peters\n",
       "6      Savannah"
      ]
     },
     "execution_count": 62,
     "metadata": {},
     "output_type": "execute_result"
    }
   ],
   "source": [
    "cities = {\n",
    "    \"Name\": [\"Los Angeles\", \"Chicago\", \"Saint Louis\", \"O'Fallon\", \"Atlanta\", \"Saint Peters\", \"Savannah\"]}\n",
    "\n",
    "import pandas as pd\n",
    "\n",
    "df = pd.DataFrame(cities)\n",
    "\n",
    "df"
   ]
  },
  {
   "cell_type": "code",
   "execution_count": 45,
   "metadata": {},
   "outputs": [
    {
     "name": "stdout",
     "output_type": "stream",
     "text": [
      "6ca68adf9ebc0da87653f68221314c10\n"
     ]
    }
   ],
   "source": [
    "from api_keys import api_key\n",
    "print(api_key) "
   ]
  },
  {
   "cell_type": "code",
   "execution_count": 47,
   "metadata": {},
   "outputs": [
    {
     "name": "stdout",
     "output_type": "stream",
     "text": [
      "{\"coord\":{\"lon\":-90.4001,\"lat\":38.6334},\"weather\":[{\"id\":804,\"main\":\"Clouds\",\"description\":\"overcast clouds\",\"icon\":\"04d\"}],\"base\":\"stations\",\"main\":{\"temp\":72.32,\"feels_like\":72.27,\"temp_min\":71.01,\"temp_max\":73.99,\"pressure\":1009,\"humidity\":64},\"visibility\":10000,\"wind\":{\"speed\":11.5,\"deg\":160,\"gust\":21.85},\"clouds\":{\"all\":90},\"dt\":1617816245,\"sys\":{\"type\":1,\"id\":5931,\"country\":\"US\",\"sunrise\":1617795395,\"sunset\":1617841815},\"timezone\":-18000,\"id\":4407074,\"name\":\"Saint Louis\",\"cod\":200}\n"
     ]
    }
   ],
   "source": [
    "base_url = \"https://api.openweathermap.org/data/2.5/weather?units=imperial&appid=\" + api_key\n",
    "city = \"saint louis\"\n",
    "full_request = base_url + '&q='+city\n",
    "req = requests.get(full_request)\n",
    "print(req.text)"
   ]
  },
  {
   "cell_type": "code",
   "execution_count": 48,
   "metadata": {},
   "outputs": [
    {
     "data": {
      "text/plain": [
       "{'coord': {'lon': -90.4001, 'lat': 38.6334},\n",
       " 'weather': [{'id': 804,\n",
       "   'main': 'Clouds',\n",
       "   'description': 'overcast clouds',\n",
       "   'icon': '04d'}],\n",
       " 'base': 'stations',\n",
       " 'main': {'temp': 72.32,\n",
       "  'feels_like': 72.27,\n",
       "  'temp_min': 71.01,\n",
       "  'temp_max': 73.99,\n",
       "  'pressure': 1009,\n",
       "  'humidity': 64},\n",
       " 'visibility': 10000,\n",
       " 'wind': {'speed': 11.5, 'deg': 160, 'gust': 21.85},\n",
       " 'clouds': {'all': 90},\n",
       " 'dt': 1617816245,\n",
       " 'sys': {'type': 1,\n",
       "  'id': 5931,\n",
       "  'country': 'US',\n",
       "  'sunrise': 1617795395,\n",
       "  'sunset': 1617841815},\n",
       " 'timezone': -18000,\n",
       " 'id': 4407074,\n",
       " 'name': 'Saint Louis',\n",
       " 'cod': 200}"
      ]
     },
     "execution_count": 48,
     "metadata": {},
     "output_type": "execute_result"
    }
   ],
   "source": [
    "weather_data = req.json()\n",
    "weather_data"
   ]
  },
  {
   "cell_type": "code",
   "execution_count": 49,
   "metadata": {},
   "outputs": [
    {
     "data": {
      "text/plain": [
       "72.32"
      ]
     },
     "execution_count": 49,
     "metadata": {},
     "output_type": "execute_result"
    }
   ],
   "source": [
    "weather_data['main']['temp']"
   ]
  },
  {
   "cell_type": "code",
   "execution_count": 50,
   "metadata": {},
   "outputs": [
    {
     "data": {
      "text/plain": [
       "11.5"
      ]
     },
     "execution_count": 50,
     "metadata": {},
     "output_type": "execute_result"
    }
   ],
   "source": [
    "weather_data['wind']['speed']"
   ]
  },
  {
   "cell_type": "code",
   "execution_count": 52,
   "metadata": {
    "scrolled": false
   },
   "outputs": [
    {
     "name": "stdout",
     "output_type": "stream",
     "text": [
      "{\"coord\":{\"lon\":-87.65,\"lat\":41.85},\"weather\":[{\"id\":803,\"main\":\"Clouds\",\"description\":\"broken clouds\",\"icon\":\"04d\"}],\"base\":\"stations\",\"main\":{\"temp\":77.07,\"feels_like\":76.55,\"temp_min\":75,\"temp_max\":78.01,\"pressure\":1009,\"humidity\":44},\"visibility\":10000,\"wind\":{\"speed\":12.66,\"deg\":190,\"gust\":25.32},\"clouds\":{\"all\":75},\"dt\":1617816422,\"sys\":{\"type\":1,\"id\":4861,\"country\":\"US\",\"sunrise\":1617794559,\"sunset\":1617841331},\"timezone\":-18000,\"id\":4887398,\"name\":\"Chicago\",\"cod\":200}\n"
     ]
    }
   ],
   "source": [
    "base_url = \"https://api.openweathermap.org/data/2.5/weather?units=imperial&appid=\" + api_key\n",
    "city = \"Chicago\"\n",
    "full_request = base_url + '&q='+city\n",
    "req = requests.get(full_request)\n",
    "print(req.text)"
   ]
  },
  {
   "cell_type": "code",
   "execution_count": 59,
   "metadata": {},
   "outputs": [
    {
     "name": "stdout",
     "output_type": "stream",
     "text": [
      "{\"coord\":{\"lon\":-118.2437,\"lat\":34.0522},\"weather\":[{\"id\":800,\"main\":\"Clear\",\"description\":\"clear sky\",\"icon\":\"01d\"}],\"base\":\"stations\",\"main\":{\"temp\":68.32,\"feels_like\":67.5,\"temp_min\":64.4,\"temp_max\":71.01,\"pressure\":1018,\"humidity\":56},\"visibility\":10000,\"wind\":{\"speed\":5.23,\"deg\":218,\"gust\":3.2},\"clouds\":{\"all\":1},\"dt\":1617816786,\"sys\":{\"type\":1,\"id\":3694,\"country\":\"US\",\"sunrise\":1617802296,\"sunset\":1617848277},\"timezone\":-25200,\"id\":5368361,\"name\":\"Los Angeles\",\"cod\":200}\n"
     ]
    }
   ],
   "source": [
    "base_url = \"https://api.openweathermap.org/data/2.5/weather?units=imperial&appid=\" + api_key\n",
    "city = \"Los Angeles\"\n",
    "full_request = base_url + '&q='+city\n",
    "req = requests.get(full_request)\n",
    "print(req.text)"
   ]
  },
  {
   "cell_type": "code",
   "execution_count": 61,
   "metadata": {},
   "outputs": [
    {
     "name": "stdout",
     "output_type": "stream",
     "text": [
      "{\"coord\":{\"lon\":-84.388,\"lat\":33.749},\"weather\":[{\"id\":801,\"main\":\"Clouds\",\"description\":\"few clouds\",\"icon\":\"02d\"}],\"base\":\"stations\",\"main\":{\"temp\":77.65,\"feels_like\":77.04,\"temp_min\":75.99,\"temp_max\":79,\"pressure\":1018,\"humidity\":41},\"visibility\":10000,\"wind\":{\"speed\":5.75,\"deg\":150},\"clouds\":{\"all\":20},\"dt\":1617817004,\"sys\":{\"type\":1,\"id\":4155,\"country\":\"US\",\"sunrise\":1617794192,\"sunset\":1617840133},\"timezone\":-14400,\"id\":4180439,\"name\":\"Atlanta\",\"cod\":200}\n"
     ]
    }
   ],
   "source": [
    "base_url = \"https://api.openweathermap.org/data/2.5/weather?units=imperial&appid=\" + api_key\n",
    "city = \"Atlanta\"\n",
    "full_request = base_url + '&q='+city\n",
    "req = requests.get(full_request)\n",
    "print(req.text)"
   ]
  },
  {
   "cell_type": "code",
   "execution_count": 63,
   "metadata": {},
   "outputs": [],
   "source": [
    "import matplotlib.pyplot as plt"
   ]
  },
  {
   "cell_type": "code",
   "execution_count": null,
   "metadata": {},
   "outputs": [],
   "source": [
    "import seaborn as sns\n",
    "import matplotlib.pyplot as plt\n",
    "\n",
    "temperate = [30, 40, 50, 60, 70, 80, 90, 100]\n",
    "\n",
    "latitude = [-60, -40, -20, 0, 20, 40, 60, 80]\n",
    "\n",
    "sns.scatterplot(x=temperature, y=latitude)\n",
    "\n",
    "plt.show()"
   ]
  },
  {
   "cell_type": "code",
   "execution_count": null,
   "metadata": {},
   "outputs": [],
   "source": [
    "import seaborn as sns\n",
    "import matplotlib.pyplot as plt\n",
    "\n",
    "cloudiness = [30, 40, 50, 60, 70, 80, 90, 100]\n",
    "\n",
    "latitude = [-60, -40, -20, 0, 20, 40, 60, 80]\n",
    "\n",
    "sns.scatterplot(x=cloudiness, y=latitude)\n",
    "\n",
    "plt.show()"
   ]
  },
  {
   "cell_type": "code",
   "execution_count": null,
   "metadata": {},
   "outputs": [],
   "source": []
  }
 ],
 "metadata": {
  "kernelspec": {
   "display_name": "Python 3",
   "language": "python",
   "name": "python3"
  },
  "language_info": {
   "codemirror_mode": {
    "name": "ipython",
    "version": 3
   },
   "file_extension": ".py",
   "mimetype": "text/x-python",
   "name": "python",
   "nbconvert_exporter": "python",
   "pygments_lexer": "ipython3",
   "version": "3.8.5"
  }
 },
 "nbformat": 4,
 "nbformat_minor": 4
}
