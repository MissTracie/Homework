{
 "cells": [
  {
   "cell_type": "code",
   "execution_count": null,
   "metadata": {},
   "outputs": [],
   "source": [
    "1. Make a function that can take any non-negative integer as an argument and return it with its digits in descending order. Essentially, rearrange the digits to create the highest possible number. \n",
    "If no number is passed in, make the default value inputted = 111111.\n",
    "Input = 43905 Output = 95430 Input = 584366 Output = 866543\n",
    "2. Import jeopardy.csv and create a dataframe from the data. Find out the following:\n",
    "a. How many rows are there in the dataframe? What does a row represent?\n",
    "b. How many unique shows were there each year?\n",
    "c. Think of another question that this data might help answer. Make that question a\n",
    "header in your notebook.\n",
    "d. Answer your question and show the steps you used to do so clearly."
   ]
  },
  {
   "cell_type": "code",
   "execution_count": 22,
   "metadata": {},
   "outputs": [
    {
     "name": "stdout",
     "output_type": "stream",
     "text": [
      "111111\n"
     ]
    }
   ],
   "source": [
    "def desc(number):\n",
    "    if type(number)== int and number >= 0:\n",
    "        numberlist=[]\n",
    "        for x in str(number):\n",
    "            numberlist.append(x)\n",
    "        strlist=[int(x) for x in numberlist]\n",
    "        sortlist=sorted(strlist, reverse=True)\n",
    "        number=\"\"\n",
    "        for i in sortlist:\n",
    "            number=\"\".join([str(i) for i in sortlist])\n",
    "        print(number)\n",
    "    else:\n",
    "        print(111111)\n",
    "        \n",
    "desc(\"ght\")    \n"
   ]
  },
  {
   "cell_type": "code",
   "execution_count": null,
   "metadata": {},
   "outputs": [],
   "source": []
  }
 ],
 "metadata": {
  "kernelspec": {
   "display_name": "Python 3",
   "language": "python",
   "name": "python3"
  },
  "language_info": {
   "codemirror_mode": {
    "name": "ipython",
    "version": 3
   },
   "file_extension": ".py",
   "mimetype": "text/x-python",
   "name": "python",
   "nbconvert_exporter": "python",
   "pygments_lexer": "ipython3",
   "version": "3.8.5"
  }
 },
 "nbformat": 4,
 "nbformat_minor": 4
}
